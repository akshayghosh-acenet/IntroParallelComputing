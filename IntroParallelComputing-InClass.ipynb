{
 "cells": [
  {
   "cell_type": "markdown",
   "metadata": {
    "id": "kVOVvSTXrqCR"
   },
   "source": [
    "**Section 4.3 - Example: Adding Two Arrays**\n",
    "\n",
    "We will write functions to add two 1D arrays in a few different ways.\n",
    "\n",
    "\n",
    "1.   In serial, using a `for` loop\n",
    "2.   Vectorized, using `numpy`\n",
    "3.   Multi-threaded, using `Pool` and `map()`\n",
    "\n",
    "\n",
    "\n",
    "\n"
   ]
  },
  {
   "cell_type": "code",
   "execution_count": null,
   "metadata": {
    "id": "zZEXiDpcsQOi"
   },
   "outputs": [],
   "source": [
    "# Script with different functions to add arrays\n",
    "\n",
    "# Import necessary modules\n",
    "import random\n",
    "import numpy as np\n",
    "# your code here...\n",
    "\n",
    "\n",
    "# Create the arrays to be added\n",
    "N = 10         # number of entries in the array\n",
    "array1 = np.random.randint(1, 100, size=N)\n",
    "array2 = np.random.randint(1, 100, size=N)\n",
    "\n",
    "\n",
    "# Define serial function\n",
    "# your code here...\n",
    "\n",
    "\n",
    "# Define vectorized function\n",
    "# your code here...\n",
    "\n",
    "\n",
    "# Define multi-threaded function\n",
    "# your code here...\n",
    "\n",
    "\n",
    "# Run each function and print the output\n",
    "# your code here..."
   ]
  },
  {
   "cell_type": "markdown",
   "metadata": {
    "id": "OwAbgP2n3bep"
   },
   "source": [
    "**Section 5 - Analyzing Performance**\n",
    "\n",
    "To best demonstrate how to check the performance of Python code, let's consider the examples below showing different ways to use the `timeit` module.\n",
    "\n",
    "This is a built-in Python module that can be used either from the command line or within a script.\n",
    "\n",
    "In this script, we'll use two methods of concatenating strings by appending numbers 1-99. We will define two functions, then compare how long they take to run using `timeit.timeit()`.\n",
    "\n",
    "The general syntax is `timeit.timeit(stmt, setup, timer, number)`\n",
    "\n",
    "\n",
    "\n",
    "\n"
   ]
  },
  {
   "cell_type": "code",
   "execution_count": null,
   "metadata": {
    "id": "1bfp25sJtovv"
   },
   "outputs": [],
   "source": [
    "# Script to time two different functions with timeit\n",
    "# your code here...\n"
   ]
  },
  {
   "cell_type": "markdown",
   "metadata": {
    "id": "6YhXHJY65OXU"
   },
   "source": [
    "`timeit` tells us the total time it took to run each iteration of the code, in seconds. In our example, this is ~2 seconds to run our functions 100,000 times. Consider the differences in the methods and why you might want to use one over the other.  \n",
    "\n",
    "\n",
    "Another method of timing code with `timeit` is to pass the code as a string to the timeit function. This is made simple by encasing our formatted code snippet in triple quotes, and storing it as a variable. The same can be done for any setup code."
   ]
  },
  {
   "cell_type": "code",
   "execution_count": null,
   "metadata": {
    "id": "i27xT4pqwt3T"
   },
   "outputs": [],
   "source": [
    "# Script to time code in triple quotes\n",
    "import timeit\n",
    "\n",
    "# setup snippet to be executed only once\n",
    "mysetup = \"\"\n",
    "\n",
    "# code snippet whose execution time is to be measured\n",
    "# your code here...\n",
    "\n",
    "\n",
    "# timeit statement\n",
    "# your code here..."
   ]
  },
  {
   "cell_type": "markdown",
   "metadata": {
    "id": "CuzKtuo_jzyJ"
   },
   "source": [
    "Another (maybe better) way to check the timing of your code is to profile your code using the `profile` or `cProfile` modules. These profile your entire code as it runs, and allows for a more holistic view to identify where speedup is most needed.\n",
    "\n",
    "Of the two modules, `cProfile` is preferred because of its reduced overhead and suitability for long-running programs.\n",
    "\n",
    "Let's use `cProfile` with a script that contains two functions to perform the same task - summing a series of random numbers. The original script is provided to edit."
   ]
  },
  {
   "cell_type": "code",
   "execution_count": 30,
   "metadata": {
    "colab": {
     "base_uri": "https://localhost:8080/"
    },
    "id": "qUmtgDoXt9lR",
    "outputId": "15c3de01-d885-42c0-b8b8-2722685b47bf"
   },
   "outputs": [
    {
     "name": "stdout",
     "output_type": "stream",
     "text": [
      "Result of function_A: 48952\n",
      "Result of function_B: 50375\n"
     ]
    }
   ],
   "source": [
    "# Python script without cProfile incorporated\n",
    "import random\n",
    "\n",
    "# set number of integers in range\n",
    "N = 1000       # this can be increased or decreased\n",
    "\n",
    "\n",
    "def function_A(N):\n",
    "  total = 0\n",
    "  for x in range(N):\n",
    "    total += random.randint(1, 100)\n",
    "  return total\n",
    "\n",
    "\n",
    "def function_B(N):\n",
    " total = sum(random.randint(1, 100) for x in range(N))\n",
    " return total\n",
    "\n",
    "\n",
    "def main(N):\n",
    "  # Call function A\n",
    "  first_result = function_A(N)\n",
    "  print(\"Result of function_A:\", first_result)\n",
    "\n",
    " # Call function B\n",
    "  second_result = function_B(N)\n",
    "  print(\"Result of function_B:\", second_result)\n",
    "\n",
    "# using if name == main ensures that the function runs only when called, and not when imported\n",
    "if __name__ == \"__main__\":\n",
    "  main(N)\n"
   ]
  },
  {
   "cell_type": "markdown",
   "metadata": {
    "id": "mSQergjQxz41"
   },
   "source": [
    "Now that we have our script, we can edit it to incorporate `cProfile`. To do this, import `cProfile` at the beginning of the code and edit how `main()` is run.\n",
    "\n",
    "Keep the above cell intact for reference, and edit the copy below."
   ]
  },
  {
   "cell_type": "code",
   "execution_count": 33,
   "metadata": {
    "colab": {
     "base_uri": "https://localhost:8080/"
    },
    "id": "4BE-WTM8z5-K",
    "outputId": "e37f10c4-07ee-4843-d033-30144044bb4d"
   },
   "outputs": [
    {
     "name": "stdout",
     "output_type": "stream",
     "text": [
      "Result of function_A: 48742\n",
      "Result of function_B: 48271\n"
     ]
    }
   ],
   "source": [
    "# Copy of Python script without cProfile incorporated - to edit!\n",
    "import random\n",
    "\n",
    "\n",
    "# set number of integers in range\n",
    "N = 1000       # this can be increased or decreased\n",
    "\n",
    "\n",
    "def function_A(N):\n",
    "  total = 0\n",
    "  for x in range(N):\n",
    "    total += random.randint(1, 100)\n",
    "  return total\n",
    "\n",
    "\n",
    "def function_B(N):\n",
    " total = sum(random.randint(1, 100) for x in range(N))\n",
    " return total\n",
    "\n",
    "\n",
    "def main(N):\n",
    "  first_result = function_A(N)\n",
    "  print(\"Result of function_A:\", first_result)\n",
    "\n",
    "  second_result = function_B(N)\n",
    "  print(\"Result of function_B:\", second_result)\n",
    "\n",
    "if __name__ == \"__main__\":\n",
    "  main(N)\n"
   ]
  },
  {
   "cell_type": "markdown",
   "metadata": {
    "id": "aaNhskDwTYzQ"
   },
   "source": [
    "This is a useful output, but we can still improve it! We can use the `pstats` module to sort the output according to the number of calls."
   ]
  },
  {
   "cell_type": "code",
   "execution_count": null,
   "metadata": {
    "id": "rTN509tUnCVt"
   },
   "outputs": [],
   "source": [
    "# Another copy of the Python script to edit!\n",
    "import random\n",
    "\n",
    "\n",
    "# set number of integers in range\n",
    "N = 1000       # this can be increased or decreased\n",
    "\n",
    "\n",
    "def function_A(N):\n",
    "  total = 0\n",
    "  for x in range(N):\n",
    "    total += random.randint(1, 100)\n",
    "  return total\n",
    "\n",
    "\n",
    "def function_B(N):\n",
    " total = sum(random.randint(1, 100) for x in range(N))\n",
    " return total\n",
    "\n",
    "\n",
    "def main(N):\n",
    "  first_result = function_A(N)\n",
    "  print(\"Result of function_A:\", first_result)\n",
    "\n",
    "  second_result = function_B(N)\n",
    "  print(\"Result of function_B:\", second_result)\n",
    "\n",
    "if __name__ == \"__main__\":\n",
    "  main(N)\n"
   ]
  },
  {
   "cell_type": "markdown",
   "metadata": {
    "id": "q9tppkpR32pt"
   },
   "source": [
    "The output can be sorted according to any of the columns, and can be shortened to however many columns. Specify the number of lines to output in `print_stats(N)`"
   ]
  },
  {
   "cell_type": "markdown",
   "metadata": {
    "id": "jGaoMDP2ya9F"
   },
   "source": [
    "Now, let's return to the previous array-adding example to get some information about the timing. We have three distinct functions, so let's time them using the `timeit` module. Edit the provided script to incorporate the timing portion."
   ]
  },
  {
   "cell_type": "code",
   "execution_count": 2,
   "metadata": {
    "id": "EoSq0nz0562E"
   },
   "outputs": [
    {
     "name": "stdout",
     "output_type": "stream",
     "text": [
      "Sequential array is [19, 124, 160, 56, 19, 28, 117, 124, 156, 113]\n",
      "Vectorized array is [ 19 124 160  56  19  28 117 124 156 113]\n",
      "Multithreaded array is [19, 124, 160, 56, 19, 28, 117, 124, 156, 113]\n"
     ]
    }
   ],
   "source": [
    "# Code from earlier - to edit!\n",
    "\n",
    "import random\n",
    "import numpy as np\n",
    "from multiprocessing import Pool\n",
    "\n",
    "# set the arrays to be used\n",
    "N = 10\n",
    "array1 = np.random.randint(1, 100, size=N)\n",
    "array2 = np.random.randint(1, 100, size=N)\n",
    "\n",
    "\n",
    "def add_arrays_sequential(arr1, arr2):\n",
    "  result = []\n",
    "  for i in range(len(arr1)):\n",
    "    result.append(arr1[i] + arr2[i])\n",
    "  return result\n",
    "\n",
    "def add_arrays_vectorized(arr1, arr2):\n",
    "  result = np.add(arr1, arr2)\n",
    "  return result\n",
    "\n",
    "def add_arrays_multithreaded(arr1, arr2):\n",
    "  array_pairs = list(zip(arr1, arr2))\n",
    "  with Pool(processes=5) as p:\n",
    "      result = p.starmap(np.add, array_pairs)\n",
    "  return result\n",
    "\n",
    "\n",
    "# Run our various functions\n",
    "\n",
    "seq_array = add_arrays_sequential(array1, array2)\n",
    "print(\"Sequential array is\",seq_array)\n",
    "\n",
    "vec_array = add_arrays_vectorized(array1, array2)\n",
    "print(\"Vectorized array is\",vec_array)\n",
    "\n",
    "mult_array = add_arrays_multithreaded(array1, array2)\n",
    "print(\"Multithreaded array is\",mult_array)\n"
   ]
  },
  {
   "cell_type": "markdown",
   "metadata": {
    "id": "_fQjlnj89qv3"
   },
   "source": [
    "Take a look at the output. Why might the multi-threaded function take longer? Which parallelization method was best for this task?"
   ]
  }
 ],
 "metadata": {
  "colab": {
   "provenance": []
  },
  "kernelspec": {
   "display_name": "Python 3 (ipykernel)",
   "language": "python",
   "name": "python3"
  },
  "language_info": {
   "codemirror_mode": {
    "name": "ipython",
    "version": 3
   },
   "file_extension": ".py",
   "mimetype": "text/x-python",
   "name": "python",
   "nbconvert_exporter": "python",
   "pygments_lexer": "ipython3",
   "version": "3.11.7"
  }
 },
 "nbformat": 4,
 "nbformat_minor": 4
}
