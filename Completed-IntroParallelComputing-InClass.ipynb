{
 "cells": [
  {
   "cell_type": "markdown",
   "metadata": {
    "id": "kVOVvSTXrqCR"
   },
   "source": [
    "**Section 4.3 - Example: Adding Two Arrays**\n",
    "\n",
    "We will write functions to add two 1D arrays in a few different ways.\n",
    "\n",
    "\n",
    "1.   In serial, using a `for` loop\n",
    "2.   Vectorized, using `numpy`\n",
    "3.   Multi-threaded, using `Pool` and `map()`\n",
    "\n",
    "\n",
    "\n",
    "\n"
   ]
  },
  {
   "cell_type": "code",
   "execution_count": 2,
   "metadata": {
    "id": "zZEXiDpcsQOi"
   },
   "outputs": [
    {
     "name": "stdout",
     "output_type": "stream",
     "text": [
      "Sequential array is [40, 101, 151, 127, 66, 57, 98, 47, 108, 78]\n",
      "Vectorized array is [ 40 101 151 127  66  57  98  47 108  78]\n",
      "Multithreaded array is [40, 101, 151, 127, 66, 57, 98, 47, 108, 78]\n"
     ]
    }
   ],
   "source": [
    "# Script with different functions to add arrays\n",
    "# Import necessary modules\n",
    "import random\n",
    "import numpy as np\n",
    "# your code here...\n",
    "from multiprocessing import Pool\n",
    "\n",
    "# Create the arrays to be added\n",
    "N = 10         # number of entries in the array\n",
    "array1 = np.random.randint(1, 100, size=N)\n",
    "array2 = np.random.randint(1, 100, size=N)\n",
    "\n",
    "\n",
    "\n",
    "# Define serial function\n",
    "# your code here...\n",
    "def add_arrays_sequential(arr1, arr2):\n",
    "    result = []\n",
    "    for i in range(len(arr1)):\n",
    "        result.append(arr1[i] + arr2[i])\n",
    "    return result\n",
    "\n",
    "# Define vectorized function\n",
    "# your code here...\n",
    "def add_arrays_vectorized(arr1, arr2):\n",
    "    result = np.add(arr1, arr2)\n",
    "    return result\n",
    "\n",
    "# Define multi-threaded function\n",
    "# your code here...\n",
    "def add_arrays_multithreaded(arr1, arr2):\n",
    "    array_pairs = list(zip(arr1, arr2))\n",
    "    with Pool(processes=5) as p:\n",
    "        result = p.starmap(np.add, array_pairs)\n",
    "    return result\n",
    "\n",
    "# Run each function and print the output\n",
    "# your code here...\n",
    "seq_array = add_arrays_sequential(array1, array2)\n",
    "print(\"Sequential array is\", seq_array)\n",
    "\n",
    "vec_array = add_arrays_vectorized(array1, array2)\n",
    "print(\"Vectorized array is\", vec_array)\n",
    "\n",
    "mult_array = add_arrays_multithreaded(array1, array2)\n",
    "print(\"Multithreaded array is\", mult_array)\n"
   ]
  },
  {
   "cell_type": "code",
   "execution_count": 2,
   "metadata": {},
   "outputs": [
    {
     "name": "stdout",
     "output_type": "stream",
     "text": [
      "[21 85 70 67 75 75 73 86 40 69]\n",
      "[65 87 35 70 95 40 41 78 71  5]\n",
      "[(21, 65), (85, 87), (70, 35), (67, 70), (75, 95), (75, 40), (73, 41), (86, 78), (40, 71), (69, 5)]\n"
     ]
    }
   ],
   "source": [
    "# Import necessary modules\n",
    "import random\n",
    "import numpy as np\n",
    "# your code here...\n",
    "from multiprocessing import Pool\n",
    "\n",
    "# Create the arrays to be added\n",
    "N = 10         # number of entries in the array\n",
    "array1 = np.random.randint(1, 100, size=N)\n",
    "array2 = np.random.randint(1, 100, size=N)\n",
    "\n",
    "print(array1)\n",
    "print(array2)\n",
    "\n",
    "array_pairs = list(zip(array1, array2))\n",
    "print(array_pairs)"
   ]
  },
  {
   "cell_type": "markdown",
   "metadata": {
    "id": "OwAbgP2n3bep"
   },
   "source": [
    "**Section 5 - Analyzing Performance**\n",
    "\n",
    "To best demonstrate how to check the performance of Python code, let's consider the examples below showing different ways to use the `timeit` module.\n",
    "\n",
    "This is a built-in Python module that can be used either from the command line or within a script.\n",
    "\n",
    "In this script, we'll use two methods of concatenating strings by appending numbers 1-99. We will define two functions, then compare how long they take to run using `timeit.timeit()`.\n",
    "\n",
    "The general syntax is `timeit.timeit(stmt, setup, timer, number)`\n",
    "\n",
    "\n",
    "\n",
    "\n"
   ]
  },
  {
   "cell_type": "code",
   "execution_count": 6,
   "metadata": {
    "id": "1bfp25sJtovv"
   },
   "outputs": [
    {
     "name": "stdout",
     "output_type": "stream",
     "text": [
      "The first output is 0123456789101112131415161718192021222324252627282930313233343536373839404142434445464748495051525354555657585960616263646566676869707172737475767778798081828384858687888990919293949596979899\n",
      "The second output is 0123456789101112131415161718192021222324252627282930313233343536373839404142434445464748495051525354555657585960616263646566676869707172737475767778798081828384858687888990919293949596979899\n",
      "Method 1 time: 27.2454920001328\n",
      "Method 2 time: 25.0220317998901\n"
     ]
    }
   ],
   "source": [
    "# Script to time two different functions with timeit\n",
    "# your code here...\n",
    "import timeit\n",
    "\n",
    "def method1():\n",
    "    newstring = \"\"\n",
    "    for x in range(100):\n",
    "        newstring += str(x)\n",
    "    return newstring\n",
    "\n",
    "def method2():\n",
    "    newstring = \"\".join([str(x) for x in range(100)])\n",
    "    return newstring\n",
    "\n",
    "output1 = method1()\n",
    "print(\"The first output is\", output1)\n",
    "output2 = method2()\n",
    "print(\"The second output is\", output2)\n",
    "\n",
    "# get the timing \n",
    "time1 = timeit.timeit(method1)\n",
    "time2 = timeit.timeit(method2)\n",
    "\n",
    "print(\"Method 1 time:\", time1)\n",
    "print(\"Method 2 time:\", time2)"
   ]
  },
  {
   "cell_type": "markdown",
   "metadata": {
    "id": "6YhXHJY65OXU"
   },
   "source": [
    "`timeit` tells us the total time it took to run each iteration of the code, in seconds. In our example, this is ~2 seconds to run our functions 100,000 times. Consider the differences in the methods and why you might want to use one over the other.  \n",
    "\n",
    "\n",
    "Another method of timing code with `timeit` is to pass the code as a string to the timeit function. This is made simple by encasing our formatted code snippet in triple quotes, and storing it as a variable. The same can be done for any setup code."
   ]
  },
  {
   "cell_type": "code",
   "execution_count": 7,
   "metadata": {
    "id": "i27xT4pqwt3T"
   },
   "outputs": [
    {
     "name": "stdout",
     "output_type": "stream",
     "text": [
      "Code snippet runtime: 2.7665488000493497\n"
     ]
    }
   ],
   "source": [
    "# Script to time code in triple quotes\n",
    "import timeit\n",
    "\n",
    "# setup snippet to be executed only once\n",
    "mysetup = \"\"\n",
    "\n",
    "# code snippet whose execution time is to be measured\n",
    "# your code here...\n",
    "mycode = '''\n",
    "def method1():\n",
    "    newstring = \"\"\n",
    "    for x in range(100):\n",
    "        newstring += str(x)\n",
    "    return newstring\n",
    "\n",
    "method1()\n",
    "'''\n",
    "\n",
    "# timeit statement\n",
    "# your code here...\n",
    "print(\"Code snippet runtime:\", timeit.timeit(setup = mysetup,stmt = mycode,number = 100000))"
   ]
  },
  {
   "cell_type": "markdown",
   "metadata": {
    "id": "CuzKtuo_jzyJ"
   },
   "source": [
    "Another (maybe better) way to check the timing of your code is to profile your code using the `profile` or `cProfile` modules. These profile your entire code as it runs, and allows for a more holistic view to identify where speedup is most needed.\n",
    "\n",
    "Of the two modules, `cProfile` is preferred because of its reduced overhead and suitability for long-running programs.\n",
    "\n",
    "Let's use `cProfile` with a script that contains two functions to perform the same task - summing a series of random numbers. The original script is provided to edit."
   ]
  },
  {
   "cell_type": "code",
   "execution_count": 9,
   "metadata": {
    "colab": {
     "base_uri": "https://localhost:8080/"
    },
    "id": "qUmtgDoXt9lR",
    "outputId": "15c3de01-d885-42c0-b8b8-2722685b47bf"
   },
   "outputs": [
    {
     "name": "stdout",
     "output_type": "stream",
     "text": [
      "Result of function_A: 5370\n",
      "Result of function_B: 5019\n"
     ]
    }
   ],
   "source": [
    "# Python script without cProfile incorporated\n",
    "import random\n",
    "\n",
    "# set number of integers in range\n",
    "N = 100       # this can be increased or decreased\n",
    "\n",
    "\n",
    "def function_A(N):\n",
    "  total = 0\n",
    "  for x in range(N):\n",
    "    total += random.randint(1, 100)\n",
    "  return total\n",
    "\n",
    "\n",
    "def function_B(N):\n",
    " total = sum(random.randint(1, 100) for x in range(N))\n",
    " return total\n",
    "\n",
    "\n",
    "def test_methods(N):\n",
    "  # Call function A\n",
    "  first_result = function_A(N)\n",
    "  print(\"Result of function_A:\", first_result)\n",
    "\n",
    " # Call function B\n",
    "  second_result = function_B(N)\n",
    "  print(\"Result of function_B:\", second_result)\n",
    "\n",
    "# using if name == main ensures that the function runs only when called, and not when imported\n",
    "if __name__ == \"__main__\":\n",
    "  test_methods(N)\n"
   ]
  },
  {
   "cell_type": "markdown",
   "metadata": {
    "id": "mSQergjQxz41"
   },
   "source": [
    "Now that we have our script, we can edit it to incorporate `cProfile`. To do this, import `cProfile` at the beginning of the code and edit how `main()` is run.\n",
    "\n",
    "Keep the above cell intact for reference, and edit the copy below."
   ]
  },
  {
   "cell_type": "code",
   "execution_count": 11,
   "metadata": {
    "colab": {
     "base_uri": "https://localhost:8080/"
    },
    "id": "4BE-WTM8z5-K",
    "outputId": "e37f10c4-07ee-4843-d033-30144044bb4d"
   },
   "outputs": [
    {
     "name": "stdout",
     "output_type": "stream",
     "text": [
      "Result of function_A: 503807\n",
      "Result of function_B: 501278\n",
      "         175644 function calls in 0.100 seconds\n",
      "\n",
      "   Ordered by: standard name\n",
      "\n",
      "   ncalls  tottime  percall  cumtime  percall filename:lineno(function)\n",
      "        1    0.000    0.000    0.055    0.055 3125828966.py:16(function_B)\n",
      "    10001    0.008    0.000    0.052    0.000 3125828966.py:17(<genexpr>)\n",
      "        1    0.000    0.000    0.100    0.100 3125828966.py:21(main)\n",
      "        1    0.007    0.007    0.045    0.045 3125828966.py:9(function_A)\n",
      "        1    0.000    0.000    0.100    0.100 <string>:1(<module>)\n",
      "        1    0.000    0.000    0.000    0.000 iostream.py:137(_event_pipe)\n",
      "        1    0.000    0.000    0.000    0.000 iostream.py:258(schedule)\n",
      "        8    0.000    0.000    0.000    0.000 iostream.py:519(_is_master_process)\n",
      "        8    0.000    0.000    0.000    0.000 iostream.py:546(_schedule_flush)\n",
      "        8    0.000    0.000    0.000    0.000 iostream.py:624(write)\n",
      "    20000    0.022    0.000    0.028    0.000 random.py:235(_randbelow_with_getrandbits)\n",
      "    20000    0.034    0.000    0.069    0.000 random.py:284(randrange)\n",
      "    20000    0.012    0.000    0.082    0.000 random.py:358(randint)\n",
      "        1    0.000    0.000    0.000    0.000 socket.py:621(send)\n",
      "        1    0.000    0.000    0.000    0.000 threading.py:1125(_wait_for_tstate_lock)\n",
      "        1    0.000    0.000    0.000    0.000 threading.py:1192(is_alive)\n",
      "        1    0.000    0.000    0.000    0.000 threading.py:575(is_set)\n",
      "    60000    0.007    0.000    0.007    0.000 {built-in method _operator.index}\n",
      "        1    0.000    0.000    0.100    0.100 {built-in method builtins.exec}\n",
      "        8    0.000    0.000    0.000    0.000 {built-in method builtins.isinstance}\n",
      "        8    0.000    0.000    0.000    0.000 {built-in method builtins.len}\n",
      "        2    0.000    0.000    0.001    0.000 {built-in method builtins.print}\n",
      "        1    0.002    0.002    0.055    0.055 {built-in method builtins.sum}\n",
      "        8    0.000    0.000    0.000    0.000 {built-in method nt.getpid}\n",
      "        8    0.000    0.000    0.000    0.000 {method '__exit__' of '_thread.RLock' objects}\n",
      "        1    0.000    0.000    0.000    0.000 {method 'acquire' of '_thread.lock' objects}\n",
      "        1    0.000    0.000    0.000    0.000 {method 'append' of 'collections.deque' objects}\n",
      "    20000    0.002    0.000    0.002    0.000 {method 'bit_length' of 'int' objects}\n",
      "        1    0.000    0.000    0.000    0.000 {method 'disable' of '_lsprof.Profiler' objects}\n",
      "    25562    0.004    0.000    0.004    0.000 {method 'getrandbits' of '_random.Random' objects}\n",
      "        8    0.000    0.000    0.000    0.000 {method 'write' of '_io.StringIO' objects}\n",
      "\n",
      "\n"
     ]
    }
   ],
   "source": [
    "# Copy of Python script without cProfile incorporated - to edit!\n",
    "import random\n",
    "import cProfile\n",
    "\n",
    "# set number of integers in range\n",
    "N = 10000       # this can be increased or decreased\n",
    "\n",
    "\n",
    "def function_A(N):\n",
    "  total = 0\n",
    "  for x in range(N):\n",
    "    total += random.randint(1, 100)\n",
    "  return total\n",
    "\n",
    "\n",
    "def function_B(N):\n",
    " total = sum(random.randint(1, 100) for x in range(N))\n",
    " return total\n",
    "\n",
    "\n",
    "def main(N):\n",
    "  first_result = function_A(N)\n",
    "  print(\"Result of function_A:\", first_result)\n",
    "\n",
    "  second_result = function_B(N)\n",
    "  print(\"Result of function_B:\", second_result)\n",
    "\n",
    "if __name__ == \"__main__\":\n",
    "  cProfile.run('main(N)')\n"
   ]
  },
  {
   "cell_type": "markdown",
   "metadata": {
    "id": "aaNhskDwTYzQ"
   },
   "source": [
    "This is a useful output, but we can still improve it! We can use the `pstats` module to sort the output according to the number of calls."
   ]
  },
  {
   "cell_type": "code",
   "execution_count": 15,
   "metadata": {
    "id": "rTN509tUnCVt"
   },
   "outputs": [
    {
     "name": "stdout",
     "output_type": "stream",
     "text": [
      "Result of function_A: 5063887\n",
      "Result of function_B: 5057077\n",
      "Tue May 14 19:48:22 2024    stats.prof\n",
      "\n",
      "         1755884 function calls in 1.067 seconds\n",
      "\n",
      "   Ordered by: cumulative time\n",
      "   List reduced from 31 to 10 due to restriction <10>\n",
      "\n",
      "   ncalls  tottime  percall  cumtime  percall filename:lineno(function)\n",
      "        1    0.000    0.000    1.067    1.067 {built-in method builtins.exec}\n",
      "        1    0.000    0.000    1.067    1.067 <string>:1(<module>)\n",
      "        1    0.000    0.000    1.067    1.067 681358055.py:23(main)\n",
      "   200000    0.138    0.000    0.890    0.000 random.py:358(randint)\n",
      "   200000    0.375    0.000    0.751    0.000 random.py:284(randrange)\n",
      "        1    0.000    0.000    0.536    0.536 681358055.py:18(function_B)\n",
      "        1    0.020    0.020    0.536    0.536 {built-in method builtins.sum}\n",
      "        1    0.076    0.076    0.531    0.531 681358055.py:11(function_A)\n",
      "   100001    0.080    0.000    0.516    0.000 681358055.py:19(<genexpr>)\n",
      "   200000    0.236    0.000    0.301    0.000 random.py:235(_randbelow_with_getrandbits)\n",
      "\n",
      "\n"
     ]
    }
   ],
   "source": [
    "# Another copy of the Python script to edit!\n",
    "import random\n",
    "import cProfile\n",
    "import pstats\n",
    "from pstats import SortKey\n",
    "\n",
    "# set number of integers in range\n",
    "N = 100000       # this can be increased or decreased\n",
    "\n",
    "\n",
    "def function_A(N):\n",
    "  total = 0\n",
    "  for x in range(N):\n",
    "    total += random.randint(1, 100)\n",
    "  return total\n",
    "\n",
    "\n",
    "def function_B(N):\n",
    " total = sum(random.randint(1, 100) for x in range(N))\n",
    " return total\n",
    "\n",
    "\n",
    "def main(N):\n",
    "  first_result = function_A(N)\n",
    "  print(\"Result of function_A:\", first_result)\n",
    "\n",
    "  second_result = function_B(N)\n",
    "  print(\"Result of function_B:\", second_result)\n",
    "\n",
    "if __name__ == \"__main__\":\n",
    "    cProfile.run('main(N)', filename='stats.prof')\n",
    "    p = pstats.Stats('stats.prof')\n",
    "    p.strip_dirs().sort_stats('cumtime').print_stats(10)\n"
   ]
  },
  {
   "cell_type": "markdown",
   "metadata": {
    "id": "q9tppkpR32pt"
   },
   "source": [
    "The output can be sorted according to any of the columns, and can be shortened to however many columns. Specify the number of lines to output in `print_stats(N)`"
   ]
  },
  {
   "cell_type": "markdown",
   "metadata": {
    "id": "jGaoMDP2ya9F"
   },
   "source": [
    "Now, let's return to the previous array-adding example to get some information about the timing. We have three distinct functions, so let's time them using the `timeit` module. Edit the provided script to incorporate the timing portion."
   ]
  },
  {
   "cell_type": "code",
   "execution_count": 18,
   "metadata": {
    "id": "EoSq0nz0562E"
   },
   "outputs": [
    {
     "name": "stdout",
     "output_type": "stream",
     "text": [
      "Sequential array is [111, 151, 106, 155, 90, 129, 106, 122, 103, 134]\n",
      "Vectorized array is [111 151 106 155  90 129 106 122 103 134]\n",
      "Multithreaded array is [111, 151, 106, 155, 90, 129, 106, 122, 103, 134]\n",
      "The sequential time is: 0.00010000006295740604\n",
      "The vectorized time is: 5.150004290044308e-05\n",
      "The multithreaded time is: 8.357957100030035\n"
     ]
    }
   ],
   "source": [
    "# Code from earlier - to edit!\n",
    "\n",
    "import random\n",
    "import numpy as np\n",
    "from multiprocessing import Pool\n",
    "import timeit\n",
    "\n",
    "# set the arrays to be used\n",
    "N = 10\n",
    "array1 = np.random.randint(1, 100, size=N)\n",
    "array2 = np.random.randint(1, 100, size=N)\n",
    "\n",
    "\n",
    "def add_arrays_sequential(arr1, arr2):\n",
    "  result = []\n",
    "  for i in range(len(arr1)):\n",
    "    result.append(arr1[i] + arr2[i])\n",
    "  return result\n",
    "\n",
    "def add_arrays_vectorized(arr1, arr2):\n",
    "  result = np.add(arr1, arr2)\n",
    "  return result\n",
    "\n",
    "def add_arrays_multithreaded(arr1, arr2):\n",
    "  array_pairs = list(zip(arr1, arr2))\n",
    "  with Pool(processes=5) as p:\n",
    "      result = p.starmap(np.add, array_pairs)\n",
    "  return result\n",
    "\n",
    "\n",
    "# Run our various functions\n",
    "\n",
    "seq_array = add_arrays_sequential(array1, array2)\n",
    "print(\"Sequential array is\",seq_array)\n",
    "\n",
    "vec_array = add_arrays_vectorized(array1, array2)\n",
    "print(\"Vectorized array is\",vec_array)\n",
    "\n",
    "mult_array = add_arrays_multithreaded(array1, array2)\n",
    "print(\"Multithreaded array is\",mult_array)\n",
    "\n",
    "\n",
    "# Timing section\n",
    "time_seq = timeit.timeit(lambda: add_arrays_sequential(array1, array2), number=10)\n",
    "print(\"The sequential time is:\", time_seq)\n",
    "\n",
    "time_vec = timeit.timeit(lambda: add_arrays_vectorized(array1, array2), number=10)\n",
    "print(\"The vectorized time is:\", time_vec)\n",
    "\n",
    "time_mult = timeit.timeit(lambda: add_arrays_multithreaded(array1, array2), number=10)\n",
    "print(\"The multithreaded time is:\", time_mult)\n"
   ]
  },
  {
   "cell_type": "markdown",
   "metadata": {
    "id": "_fQjlnj89qv3"
   },
   "source": [
    "Take a look at the output. Why might the multi-threaded function take longer? Which parallelization method was best for this task?"
   ]
  }
 ],
 "metadata": {
  "colab": {
   "provenance": []
  },
  "kernelspec": {
   "display_name": "Python 3 (ipykernel)",
   "language": "python",
   "name": "python3"
  },
  "language_info": {
   "codemirror_mode": {
    "name": "ipython",
    "version": 3
   },
   "file_extension": ".py",
   "mimetype": "text/x-python",
   "name": "python",
   "nbconvert_exporter": "python",
   "pygments_lexer": "ipython3",
   "version": "3.11.7"
  }
 },
 "nbformat": 4,
 "nbformat_minor": 4
}
